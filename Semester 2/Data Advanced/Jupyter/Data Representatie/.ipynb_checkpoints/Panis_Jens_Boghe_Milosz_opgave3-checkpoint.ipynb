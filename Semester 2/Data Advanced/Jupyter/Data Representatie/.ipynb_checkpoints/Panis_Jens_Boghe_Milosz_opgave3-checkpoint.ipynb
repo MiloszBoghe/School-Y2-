{
 "cells": [
  {
   "cell_type": "markdown",
   "metadata": {},
   "source": [
    "# Netflix Movies & TV Shows\n",
    "In this notebook we will use machine learning to predict the rating of a tv show or movie.\n",
    "\n",
    "## Imports"
   ]
  },
  {
   "cell_type": "code",
   "execution_count": 1,
   "metadata": {},
   "outputs": [],
   "source": [
    "%config IPCompleter.greedy=True\n",
    "import numpy as np \n",
    "import pandas as pd \n",
    "import matplotlib.pyplot as plt\n",
    "from sklearn.model_selection import train_test_split"
   ]
  },
  {
   "cell_type": "markdown",
   "metadata": {},
   "source": [
    "### CSS for markdown"
   ]
  },
  {
   "cell_type": "code",
   "execution_count": 2,
   "metadata": {},
   "outputs": [
    {
     "data": {
      "text/html": [
       "<!--just some css for table in markdown-->\n",
       "<style>\n",
       "table {float:left;}\n",
       "</style>\n"
      ],
      "text/plain": [
       "<IPython.core.display.HTML object>"
      ]
     },
     "metadata": {},
     "output_type": "display_data"
    }
   ],
   "source": [
    "%%html\n",
    "<!--just some css for table in markdown-->\n",
    "<style>\n",
    "table {float:left;}\n",
    "</style>"
   ]
  },
  {
   "cell_type": "markdown",
   "metadata": {},
   "source": [
    "## Our features are:\n",
    "<br>\n",
    "\n",
    "| Feature       | Beschrijving                                                              |\n",
    "|:--------------|:--------------------------------------------------------------------------|\n",
    "| Type:         | Movie or TV Show?                                                         | \n",
    "| Title:        | Title of the movie or TV Show                                             |\n",
    "| Director:     | Shows who directed the movie or TV Show                                   |\n",
    "| Cast:         | Shows all actors that played in the movie or TV Show                      | \n",
    "| Country:      | Country that produced the movie or TV Show                                |\n",
    "| Date_added:   | When it became available on Netflix                                       |\n",
    "| Release_year: | Year of release                                                           |\n",
    "| Rating:       | Motion picture content rating                                             |\n",
    "| Duration:     | Duration of the movie in minutes or the TV Show in seasons                |\n",
    "| Listed_in:    | Netflix categories it is listed under.                                    |\n",
    "| Description:  | Short description of the movie or TV Show                                 |\n",
    "\n",
    "<br style=\"clear:both\" />\n",
    "\n",
    "#### Next we'll check what values we need to change into numeric values and what columns we can drop:\n",
    "\n",
    "- actors usually have a preference in roles, so we can use actor names to predict the kind of movie / TV Show and therefore the rating.\n",
    "- listed_in contains categories, which are definitely very helpful to predict the rating of a movie or TV Show\n",
    "\n",
    "#### We can drop the remaining columns: show_id, type, director, country, date_added, release_year, duration and description and we'll also fill the null values with NA strings, except for the ratings as this is our target column. we will drop rows with null ratings instead:"
   ]
  },
  {
   "cell_type": "code",
   "execution_count": 3,
   "metadata": {},
   "outputs": [
    {
     "name": "stdout",
     "output_type": "stream",
     "text": [
      "TV-MA       2027\n",
      "TV-14       1698\n",
      "TV-PG        701\n",
      "R            508\n",
      "PG-13        286\n",
      "NR           218\n",
      "PG           184\n",
      "TV-Y7        169\n",
      "TV-G         149\n",
      "TV-Y         143\n",
      "TV-Y7-FV      95\n",
      "G             37\n",
      "UR             7\n",
      "NC-17          2\n",
      "Name: rating, dtype: int64\n"
     ]
    }
   ],
   "source": [
    "contentDf = pd.read_csv(\"netflix_titles.csv\")\n",
    "\n",
    "#deleting unnecessary columns:\n",
    "del contentDf[\"show_id\"]\n",
    "del contentDf[\"type\"]\n",
    "del contentDf[\"country\"]\n",
    "del contentDf[\"description\"]\n",
    "del contentDf[\"date_added\"]\n",
    "del contentDf[\"release_year\"]\n",
    "del contentDf[\"duration\"]\n",
    "del contentDf[\"director\"]\n",
    "del contentDf[\"title\"]\n",
    "\n",
    "#taking all rows where rating is not null:\n",
    "contentDf= contentDf[contentDf[\"rating\"].notna()]\n",
    "#replacing all null values with a string value of \"NA\" instead\n",
    "contentDf = contentDf.fillna(\"NA\")\n",
    "print(contentDf[\"rating\"].value_counts())"
   ]
  },
  {
   "cell_type": "markdown",
   "metadata": {},
   "source": [
    "We have 14 different ratings but 10 of them have below 5% occurence each so it would be too hard to accurately predict them, we don't have enough data for them.\n",
    "\n",
    "#### Therefore we will only take the top 4 ratings  "
   ]
  },
  {
   "cell_type": "code",
   "execution_count": 4,
   "metadata": {
    "scrolled": true
   },
   "outputs": [
    {
     "data": {
      "text/plain": [
       "TV-MA    2027\n",
       "TV-14    1698\n",
       "TV-PG     701\n",
       "R         508\n",
       "Name: rating, dtype: int64"
      ]
     },
     "execution_count": 4,
     "metadata": {},
     "output_type": "execute_result"
    }
   ],
   "source": [
    "contentDf = contentDf[(contentDf[\"rating\"]==\"TV-MA\")|(contentDf[\"rating\"]==\"TV-14\")|(contentDf[\"rating\"]==\"TV-PG\")|(contentDf[\"rating\"]==\"R\")]\n",
    "contentDf[\"rating\"].value_counts()"
   ]
  },
  {
   "cell_type": "markdown",
   "metadata": {},
   "source": [
    "#### We still have to convert all columns to numerical values. Let's assign a numerical value to each rating and add a binary column for each actor and genre:"
   ]
  },
  {
   "cell_type": "code",
   "execution_count": 5,
   "metadata": {},
   "outputs": [
    {
     "name": "stdout",
     "output_type": "stream",
     "text": [
      "Totals:\n",
      "(4934, 23451)\n"
     ]
    }
   ],
   "source": [
    "from sklearn.feature_extraction.text import CountVectorizer\n",
    "\n",
    "#get all actors and genres as an array:\n",
    "actors = contentDf[\"cast\"].values\n",
    "genres = contentDf[\"listed_in\"].values\n",
    "\n",
    "vect = CountVectorizer(token_pattern='(?u)[a-zA-Z][a-zA-Z \\'\\-\\&\\.]+')\n",
    "vect2 = CountVectorizer(token_pattern='(?u)[a-zA-Z][a-zA-Z \\'\\-\\&\\.]+')\n",
    "\n",
    "#get vocabularies (All unique actors and all unique genres):\n",
    "vect.fit(actors)\n",
    "vect2.fit(genres)\n",
    "\n",
    "#variables for readability\n",
    "actorNames = vect.get_feature_names()\n",
    "actorValuesArray = vect.transform(actors).toarray()\n",
    "genreNames = vect2.get_feature_names()\n",
    "genreValuesArray = vect2.transform(genres).toarray()\n",
    "\n",
    "#Creating numpy ndarrays for column names and values:\n",
    "columnNames = np.hstack([actorNames,genreNames])\n",
    "columnValues = np.hstack([actorValuesArray,genreValuesArray])\n",
    "\n",
    "#making new dataframe with our new columns:\n",
    "dataprepped = pd.DataFrame(columnValues, columns=columnNames)\n",
    "\n",
    "contentDf = contentDf.reset_index()\n",
    "dataprepped = dataprepped.reset_index()\n",
    "dataprepped[\"rating\"] = contentDf[\"rating\"]\n",
    "dataprepped = dataprepped.replace({\"rating\":{\"TV-MA\":0,\"TV-14\":1,\"TV-PG\":2,\"R\":3}})\n",
    "\n",
    "#Let's check our shape:\n",
    "print(\"Totals:\")\n",
    "print(dataprepped.shape)"
   ]
  },
  {
   "cell_type": "markdown",
   "metadata": {},
   "source": [
    "So we now have a total of 4934 rows and 23450 columns.\n",
    "\n",
    "## Logistic Regression\n",
    "Based on our data, we will use the logistic regression algorithm as this is a fast algorithm that allows supervised learning. The next step is dividing our dataset into a training set and a test set.\n",
    "\n",
    "#### We will split our data: 70% for our training set and 30% for testing set."
   ]
  },
  {
   "cell_type": "code",
   "execution_count": 6,
   "metadata": {},
   "outputs": [
    {
     "name": "stdout",
     "output_type": "stream",
     "text": [
      "training set: 69.98%\n",
      "test set: 30.02%\n"
     ]
    }
   ],
   "source": [
    "featuredColNames = columnNames\n",
    "predictedColName= [\"rating\"]\n",
    "\n",
    "#x = dataframes with featured columns\n",
    "#y = dataframe with correct result column\n",
    "x = dataprepped[featuredColNames]\n",
    "y = dataprepped[predictedColName]\n",
    "testSize=0.3\n",
    "\n",
    "xTrain, xTest, yTrain, yTest = train_test_split(x,y,test_size=testSize, random_state=26)\n",
    "yTest = yTest.rating.values\n",
    "yTrain = yTrain.rating.values\n",
    "#Let's check if that worked correctly:\n",
    "print(\"training set: {0:0.2f}%\".format(len(xTrain)/len(dataprepped)*100))\n",
    "print(\"test set: {0:0.2f}%\".format(len(xTest)/len(dataprepped)*100))"
   ]
  },
  {
   "cell_type": "markdown",
   "metadata": {},
   "source": [
    "#### Great, that's correct. Now we have to check if our rating counts are about evenly split:"
   ]
  },
  {
   "cell_type": "code",
   "execution_count": 7,
   "metadata": {
    "scrolled": true
   },
   "outputs": [
    {
     "name": "stdout",
     "output_type": "stream",
     "text": [
      "Original TV-MA: 2027 (41.08%)\n",
      "Original TV-14: 1698 (34.41%)\n",
      "Original TV-PG: 701 (14.21%)\n",
      "Original R: 508 (10.30%)\n",
      "\n",
      "Training TV-MA: 1390 (40.25%)\n",
      "Training TV-14: 1189 (34.43%)\n",
      "Training TV-PG: 513 (14.86%)\n",
      "Training R: 361 (10.45%)\n",
      "\n",
      "Test TV-MA: 637 (43.01%)\n",
      "Test TV-14: 509 (34.37%)\n",
      "Test TV-PG: 188 (12.69%)\n",
      "Test R: 147 (9.93%)\n"
     ]
    }
   ],
   "source": [
    "totalRows = len(dataprepped.index)\n",
    "totalTrain = len(yTrain)\n",
    "totalTest = len(yTest)\n",
    "\n",
    "#Original values\n",
    "originalMA = len(dataprepped[dataprepped[\"rating\"]==0])\n",
    "original14 = len(dataprepped[dataprepped[\"rating\"]==1])\n",
    "originalPG = len(dataprepped[dataprepped[\"rating\"]==2])\n",
    "originalR = len(dataprepped[dataprepped[\"rating\"]==3])\n",
    "\n",
    "#Training values\n",
    "trainingMA = len(yTrain[yTrain==0])\n",
    "training14 = len(yTrain[yTrain==1])\n",
    "trainingPG = len(yTrain[yTrain==2])\n",
    "trainingR = len(yTrain[yTrain==3])\n",
    "\n",
    "#Test values\n",
    "testMA = len(yTest[yTest==0])\n",
    "test14 = len(yTest[yTest==1])\n",
    "testPG = len(yTest[yTest==2])\n",
    "testR = len(yTest[yTest==3])\n",
    "\n",
    "#Prints\n",
    "print(\"Original TV-MA: {0} ({1:0.2f}%)\".format(originalMA, originalMA / totalRows * 100))\n",
    "print(\"Original TV-14: {0} ({1:0.2f}%)\".format(original14, original14 / totalRows * 100))\n",
    "print(\"Original TV-PG: {0} ({1:0.2f}%)\".format(originalPG, originalPG / totalRows * 100))\n",
    "print(\"Original R: {0} ({1:0.2f}%)\".format(originalR, originalR / totalRows * 100))\n",
    "print()\n",
    "print(\"Training TV-MA: {0} ({1:0.2f}%)\".format(trainingMA, trainingMA / totalTrain * 100))\n",
    "print(\"Training TV-14: {0} ({1:0.2f}%)\".format(training14, training14 / totalTrain * 100))\n",
    "print(\"Training TV-PG: {0} ({1:0.2f}%)\".format(trainingPG, trainingPG / totalTrain * 100))\n",
    "print(\"Training R: {0} ({1:0.2f}%)\".format(trainingR, trainingR / totalTrain * 100))\n",
    "print()\n",
    "print(\"Test TV-MA: {0} ({1:0.2f}%)\".format(testMA, testMA / totalTest * 100))\n",
    "print(\"Test TV-14: {0} ({1:0.2f}%)\".format(test14, test14 / totalTest * 100))\n",
    "print(\"Test TV-PG: {0} ({1:0.2f}%)\".format(testPG, testPG / totalTest * 100))\n",
    "print(\"Test R: {0} ({1:0.2f}%)\".format(testR, testR / totalTest * 100))"
   ]
  },
  {
   "cell_type": "markdown",
   "metadata": {},
   "source": [
    "#### Now that we have seen that everything is working correctly, we can move on to importing our algorithm and training it:"
   ]
  },
  {
   "cell_type": "code",
   "execution_count": 8,
   "metadata": {},
   "outputs": [
    {
     "name": "stdout",
     "output_type": "stream",
     "text": [
      "Model created!\n"
     ]
    }
   ],
   "source": [
    "#Logistic regression \n",
    "from sklearn.linear_model import LogisticRegression\n",
    "logistic_model = LogisticRegression(penalty= 'l2', C=1, solver='liblinear').fit(xTrain, yTrain)\n",
    "print(\"Model created!\")"
   ]
  },
  {
   "cell_type": "markdown",
   "metadata": {},
   "source": [
    "#### Now let's put our test data in and take a sneak peak at the accuracy:"
   ]
  },
  {
   "cell_type": "code",
   "execution_count": 23,
   "metadata": {},
   "outputs": [
    {
     "data": {
      "text/html": [
       "<div>\n",
       "<style scoped>\n",
       "    .dataframe tbody tr th:only-of-type {\n",
       "        vertical-align: middle;\n",
       "    }\n",
       "\n",
       "    .dataframe tbody tr th {\n",
       "        vertical-align: top;\n",
       "    }\n",
       "\n",
       "    .dataframe thead th {\n",
       "        text-align: right;\n",
       "    }\n",
       "</style>\n",
       "<table border=\"1\" class=\"dataframe\">\n",
       "  <thead>\n",
       "    <tr style=\"text-align: right;\">\n",
       "      <th></th>\n",
       "      <th>yTest</th>\n",
       "      <th>yPrediction</th>\n",
       "    </tr>\n",
       "  </thead>\n",
       "  <tbody>\n",
       "    <tr>\n",
       "      <td>0</td>\n",
       "      <td>3</td>\n",
       "      <td>3</td>\n",
       "    </tr>\n",
       "    <tr>\n",
       "      <td>1</td>\n",
       "      <td>1</td>\n",
       "      <td>1</td>\n",
       "    </tr>\n",
       "    <tr>\n",
       "      <td>2</td>\n",
       "      <td>2</td>\n",
       "      <td>1</td>\n",
       "    </tr>\n",
       "    <tr>\n",
       "      <td>3</td>\n",
       "      <td>1</td>\n",
       "      <td>0</td>\n",
       "    </tr>\n",
       "    <tr>\n",
       "      <td>4</td>\n",
       "      <td>1</td>\n",
       "      <td>1</td>\n",
       "    </tr>\n",
       "    <tr>\n",
       "      <td>5</td>\n",
       "      <td>1</td>\n",
       "      <td>0</td>\n",
       "    </tr>\n",
       "    <tr>\n",
       "      <td>6</td>\n",
       "      <td>1</td>\n",
       "      <td>0</td>\n",
       "    </tr>\n",
       "    <tr>\n",
       "      <td>7</td>\n",
       "      <td>2</td>\n",
       "      <td>1</td>\n",
       "    </tr>\n",
       "    <tr>\n",
       "      <td>8</td>\n",
       "      <td>0</td>\n",
       "      <td>0</td>\n",
       "    </tr>\n",
       "    <tr>\n",
       "      <td>9</td>\n",
       "      <td>1</td>\n",
       "      <td>1</td>\n",
       "    </tr>\n",
       "  </tbody>\n",
       "</table>\n",
       "</div>"
      ],
      "text/plain": [
       "   yTest  yPrediction\n",
       "0      3            3\n",
       "1      1            1\n",
       "2      2            1\n",
       "3      1            0\n",
       "4      1            1\n",
       "5      1            0\n",
       "6      1            0\n",
       "7      2            1\n",
       "8      0            0\n",
       "9      1            1"
      ]
     },
     "execution_count": 23,
     "metadata": {},
     "output_type": "execute_result"
    }
   ],
   "source": [
    "from sklearn.metrics import accuracy_score\n",
    "result = logistic_model.predict(xTest)\n",
    "predictedResults = pd.DataFrame({'yTest': yTest, 'yPrediction': result})\n",
    "predictedResults.head(10)"
   ]
  },
  {
   "cell_type": "markdown",
   "metadata": {},
   "source": [
    "Looks okay. \n",
    "#### Let's calculate the percentage:"
   ]
  },
  {
   "cell_type": "code",
   "execution_count": 24,
   "metadata": {},
   "outputs": [
    {
     "name": "stdout",
     "output_type": "stream",
     "text": [
      "accuracy score: 60.36%\n"
     ]
    }
   ],
   "source": [
    "acc = accuracy_score(yTest, result)\n",
    "print('accuracy score: {0:0.2f}%'.format(acc * 100, 2))"
   ]
  },
  {
   "cell_type": "markdown",
   "metadata": {},
   "source": [
    "#### That was logistic regression. <br> 60% is not too impressive though. Let's try gaussian_naive_bayes. First we need to create and train the model:"
   ]
  },
  {
   "cell_type": "code",
   "execution_count": 20,
   "metadata": {},
   "outputs": [
    {
     "name": "stdout",
     "output_type": "stream",
     "text": [
      "Model ready for use!\n"
     ]
    }
   ],
   "source": [
    "from sklearn.model_selection import train_test_split\n",
    "from sklearn.naive_bayes import GaussianNB\n",
    "gnb = GaussianNB().fit(xTrain,yTrain)\n",
    "print(\"Model ready for use!\")"
   ]
  },
  {
   "cell_type": "markdown",
   "metadata": {},
   "source": [
    "#### Success. Now we can input the data and check the accuracy:"
   ]
  },
  {
   "cell_type": "code",
   "execution_count": 26,
   "metadata": {},
   "outputs": [
    {
     "data": {
      "text/html": [
       "<div>\n",
       "<style scoped>\n",
       "    .dataframe tbody tr th:only-of-type {\n",
       "        vertical-align: middle;\n",
       "    }\n",
       "\n",
       "    .dataframe tbody tr th {\n",
       "        vertical-align: top;\n",
       "    }\n",
       "\n",
       "    .dataframe thead th {\n",
       "        text-align: right;\n",
       "    }\n",
       "</style>\n",
       "<table border=\"1\" class=\"dataframe\">\n",
       "  <thead>\n",
       "    <tr style=\"text-align: right;\">\n",
       "      <th></th>\n",
       "      <th>yTest</th>\n",
       "      <th>yPrediction</th>\n",
       "    </tr>\n",
       "  </thead>\n",
       "  <tbody>\n",
       "    <tr>\n",
       "      <td>0</td>\n",
       "      <td>3</td>\n",
       "      <td>3</td>\n",
       "    </tr>\n",
       "    <tr>\n",
       "      <td>1</td>\n",
       "      <td>1</td>\n",
       "      <td>1</td>\n",
       "    </tr>\n",
       "    <tr>\n",
       "      <td>2</td>\n",
       "      <td>2</td>\n",
       "      <td>1</td>\n",
       "    </tr>\n",
       "    <tr>\n",
       "      <td>3</td>\n",
       "      <td>1</td>\n",
       "      <td>2</td>\n",
       "    </tr>\n",
       "    <tr>\n",
       "      <td>4</td>\n",
       "      <td>1</td>\n",
       "      <td>1</td>\n",
       "    </tr>\n",
       "    <tr>\n",
       "      <td>5</td>\n",
       "      <td>1</td>\n",
       "      <td>2</td>\n",
       "    </tr>\n",
       "    <tr>\n",
       "      <td>6</td>\n",
       "      <td>1</td>\n",
       "      <td>2</td>\n",
       "    </tr>\n",
       "    <tr>\n",
       "      <td>7</td>\n",
       "      <td>2</td>\n",
       "      <td>1</td>\n",
       "    </tr>\n",
       "    <tr>\n",
       "      <td>8</td>\n",
       "      <td>0</td>\n",
       "      <td>2</td>\n",
       "    </tr>\n",
       "    <tr>\n",
       "      <td>9</td>\n",
       "      <td>1</td>\n",
       "      <td>1</td>\n",
       "    </tr>\n",
       "  </tbody>\n",
       "</table>\n",
       "</div>"
      ],
      "text/plain": [
       "   yTest  yPrediction\n",
       "0      3            3\n",
       "1      1            1\n",
       "2      2            1\n",
       "3      1            2\n",
       "4      1            1\n",
       "5      1            2\n",
       "6      1            2\n",
       "7      2            1\n",
       "8      0            2\n",
       "9      1            1"
      ]
     },
     "execution_count": 26,
     "metadata": {},
     "output_type": "execute_result"
    }
   ],
   "source": [
    "result = gnb.predict(xTest)\n",
    "\n",
    "predictedResults = pd.DataFrame({'yTest': yTest, 'yPrediction': result})\n",
    "predictedResults.head(10)\n"
   ]
  },
  {
   "cell_type": "markdown",
   "metadata": {},
   "source": [
    "That one looks worse already. \n",
    "#### Let's look at the percentage:"
   ]
  },
  {
   "cell_type": "code",
   "execution_count": 27,
   "metadata": {},
   "outputs": [
    {
     "name": "stdout",
     "output_type": "stream",
     "text": [
      "accuracy score: 47.27%\n"
     ]
    }
   ],
   "source": [
    "acc = accuracy_score(yTest, result)\n",
    "print('accuracy score: {0:0.2f}%'.format(acc * 100, 2))"
   ]
  },
  {
   "cell_type": "markdown",
   "metadata": {},
   "source": [
    "Seems like logistic regression is the better option here.\n",
    "#### Thanks for reading :)"
   ]
  },
  {
   "cell_type": "code",
   "execution_count": 16,
   "metadata": {},
   "outputs": [],
   "source": []
  },
  {
   "cell_type": "code",
   "execution_count": null,
   "metadata": {},
   "outputs": [],
   "source": []
  }
 ],
 "metadata": {
  "kernelspec": {
   "display_name": "Python 3",
   "language": "python",
   "name": "python3"
  },
  "language_info": {
   "codemirror_mode": {
    "name": "ipython",
    "version": 3
   },
   "file_extension": ".py",
   "mimetype": "text/x-python",
   "name": "python",
   "nbconvert_exporter": "python",
   "pygments_lexer": "ipython3",
   "version": "3.7.4"
  }
 },
 "nbformat": 4,
 "nbformat_minor": 4
}
