{
 "cells": [
  {
   "cell_type": "code",
   "execution_count": 1,
   "metadata": {
    "_cell_guid": "b1076dfc-b9ad-4769-8c92-a6c4dae69d19",
    "_uuid": "8f2839f25d086af736a60e9eeb907d3b93b6e0e5",
    "scrolled": true
   },
   "outputs": [
    {
     "name": "stdout",
     "output_type": "stream",
     "text": [
      "..\\input\\netflix_titles.csv\n"
     ]
    }
   ],
   "source": [
    "%config IPCompleter.greedy=True\n",
    "import numpy as np # linear algebra\n",
    "import pandas as pd # data processing, CSV file I/O (e.g. pd.read_csv)\n",
    "import seaborn as sns\n",
    "# Input data files are available in the read-only \"../input/\" directory\n",
    "# For example, running this (by clicking run or pressing Shift+Enter) will list all files under the input directory\n",
    "import matplotlib.pyplot as plt\n",
    "import os\n",
    "for dirname, _, filenames in os.walk('..\\input'):\n",
    "    for filename in filenames:\n",
    "        print(os.path.join(dirname, filename))\n",
    "\n",
    "\n",
    "        "
   ]
  },
  {
   "cell_type": "code",
   "execution_count": 2,
   "metadata": {},
   "outputs": [],
   "source": [
    "#type: Laat zien of het een film of een serie is\n",
    "#title: De titel van de film of serie\n",
    "#director: Laat zien wie de director(s) van de film of serie is/zijn\n",
    "#cast: Laat alle acteurs/actrices zien\n",
    "#country: Het land van de film\n",
    "#date_added: Wanneer het op netflix beschikbaar werd\n",
    "#release_year: Jaar wanneer de film uitkwam\n",
    "#rating: Geeft de rating van de content weer (geschikt voor kinderen of niet, ..)\n",
    "#duration: Hoe lang de film of serie duurt (in minuten of seizoenen)\n",
    "#listed_in: Netflix categorie waarin deze terug te vinden is.\n",
    "#description: Korte beschrijving van de film of serie."
   ]
  },
  {
   "cell_type": "code",
   "execution_count": 3,
   "metadata": {
    "_cell_guid": "79c7e3d0-c299-4dcb-8224-4455121ee9b0",
    "_uuid": "d629ff2d2480ee46fbb7e2d37f6b5fab8052498a"
   },
   "outputs": [
    {
     "name": "stdout",
     "output_type": "stream",
     "text": [
      "<class 'pandas.core.frame.DataFrame'>\n",
      "RangeIndex: 6234 entries, 0 to 6233\n",
      "Data columns (total 12 columns):\n",
      " #   Column        Non-Null Count  Dtype \n",
      "---  ------        --------------  ----- \n",
      " 0   show_id       6234 non-null   int64 \n",
      " 1   type          6234 non-null   object\n",
      " 2   title         6234 non-null   object\n",
      " 3   director      4265 non-null   object\n",
      " 4   cast          5664 non-null   object\n",
      " 5   country       5758 non-null   object\n",
      " 6   date_added    6223 non-null   object\n",
      " 7   release_year  6234 non-null   int64 \n",
      " 8   rating        6224 non-null   object\n",
      " 9   duration      6234 non-null   object\n",
      " 10  listed_in     6234 non-null   object\n",
      " 11  description   6234 non-null   object\n",
      "dtypes: int64(2), object(10)\n",
      "memory usage: 584.6+ KB\n"
     ]
    }
   ],
   "source": [
    "#Laad de dataset in JupyterNotebooks\n",
    "content = pd.read_csv(\"../input/netflix_titles.csv\")\n",
    "\n",
    "#Display alle gegevens die zijn opgenomen in de dataset samen met hun type\n",
    "content.dtypes\n",
    "content.info()\n"
   ]
  },
  {
   "cell_type": "code",
   "execution_count": 4,
   "metadata": {},
   "outputs": [
    {
     "data": {
      "text/plain": [
       "Index(['show_id', 'type', 'title', 'director', 'cast', 'country', 'date_added',\n",
       "       'release_year', 'rating', 'duration', 'listed_in', 'description'],\n",
       "      dtype='object')"
      ]
     },
     "execution_count": 4,
     "metadata": {},
     "output_type": "execute_result"
    }
   ],
   "source": [
    "#Om een beter beeld te krijgen van de data waarmee we aan het werken zijn \n",
    "#gaan we eerst een paar overzichten laten zien!\n",
    "#Alle Features die we hebben in onze dataset: \n",
    "\n",
    "    #Type: Laat zien of het een film of een serie is\n",
    "    #Title: De titel van de film of serie\n",
    "    #Director: Laat zien wie de director(s) van de film of serie is/zijn\n",
    "    #Cast: Laat alle acteurs/actrices zien\n",
    "    #Country: Het land van de film\n",
    "    #Date_added: Wanneer het op netflix beschikbaar werd\n",
    "    #Release_year: Jaar wanneer de film uitkwam\n",
    "    #Rating: Geeft de rating van de content weer (geschikt voor kinderen of niet, ..)\n",
    "    #Duration: Hoe lang de film of serie duurt (in minuten of seizoenen)\n",
    "    #Listed_in: Netflix categorie waarin deze terug te vinden is.\n",
    "    #Description: Korte beschrijving van de film of serie.\n",
    "\n",
    "#Om alle kolommen te tonen van onze dataset doen we het volgende:\n",
    "\n",
    "content.columns"
   ]
  },
  {
   "cell_type": "code",
   "execution_count": 5,
   "metadata": {},
   "outputs": [
    {
     "data": {
      "text/plain": [
       "show_id            0\n",
       "type               0\n",
       "title              0\n",
       "director        1969\n",
       "cast             570\n",
       "country          476\n",
       "date_added        11\n",
       "release_year       0\n",
       "rating            10\n",
       "duration           0\n",
       "listed_in          0\n",
       "description        0\n",
       "dtype: int64"
      ]
     },
     "execution_count": 5,
     "metadata": {},
     "output_type": "execute_result"
    }
   ],
   "source": [
    "#Graag willen we ook een beeld krijgen of er veel van onze data lees is of niet\n",
    "content.isnull().sum()"
   ]
  },
  {
   "cell_type": "code",
   "execution_count": 6,
   "metadata": {},
   "outputs": [
    {
     "data": {
      "text/plain": [
       "show_id         6234\n",
       "type               2\n",
       "title           6172\n",
       "director        3301\n",
       "cast            5469\n",
       "country          554\n",
       "date_added      1524\n",
       "release_year      72\n",
       "rating            14\n",
       "duration         201\n",
       "listed_in        461\n",
       "description     6226\n",
       "dtype: int64"
      ]
     },
     "execution_count": 6,
     "metadata": {},
     "output_type": "execute_result"
    }
   ],
   "source": [
    "#Return number of unique elements in the object.\n",
    "#Geeft aan hoeveel unieke elementen in het object zitten\n",
    "content.nunique()"
   ]
  },
  {
   "cell_type": "code",
   "execution_count": 7,
   "metadata": {},
   "outputs": [
    {
     "data": {
      "text/html": [
       "<div>\n",
       "<style scoped>\n",
       "    .dataframe tbody tr th:only-of-type {\n",
       "        vertical-align: middle;\n",
       "    }\n",
       "\n",
       "    .dataframe tbody tr th {\n",
       "        vertical-align: top;\n",
       "    }\n",
       "\n",
       "    .dataframe thead th {\n",
       "        text-align: right;\n",
       "    }\n",
       "</style>\n",
       "<table border=\"1\" class=\"dataframe\">\n",
       "  <thead>\n",
       "    <tr style=\"text-align: right;\">\n",
       "      <th></th>\n",
       "      <th>show_id</th>\n",
       "      <th>type</th>\n",
       "      <th>title</th>\n",
       "      <th>director</th>\n",
       "      <th>cast</th>\n",
       "      <th>country</th>\n",
       "      <th>date_added</th>\n",
       "      <th>release_year</th>\n",
       "      <th>rating</th>\n",
       "      <th>duration</th>\n",
       "      <th>listed_in</th>\n",
       "      <th>description</th>\n",
       "    </tr>\n",
       "  </thead>\n",
       "  <tbody>\n",
       "    <tr>\n",
       "      <td>count</td>\n",
       "      <td>6.234000e+03</td>\n",
       "      <td>6234</td>\n",
       "      <td>6234</td>\n",
       "      <td>4265</td>\n",
       "      <td>5664</td>\n",
       "      <td>5758</td>\n",
       "      <td>6223</td>\n",
       "      <td>6234.00000</td>\n",
       "      <td>6224</td>\n",
       "      <td>6234</td>\n",
       "      <td>6234</td>\n",
       "      <td>6234</td>\n",
       "    </tr>\n",
       "    <tr>\n",
       "      <td>unique</td>\n",
       "      <td>NaN</td>\n",
       "      <td>2</td>\n",
       "      <td>6172</td>\n",
       "      <td>3301</td>\n",
       "      <td>5469</td>\n",
       "      <td>554</td>\n",
       "      <td>1524</td>\n",
       "      <td>NaN</td>\n",
       "      <td>14</td>\n",
       "      <td>201</td>\n",
       "      <td>461</td>\n",
       "      <td>6226</td>\n",
       "    </tr>\n",
       "    <tr>\n",
       "      <td>top</td>\n",
       "      <td>NaN</td>\n",
       "      <td>Movie</td>\n",
       "      <td>Tunnel</td>\n",
       "      <td>Raúl Campos, Jan Suter</td>\n",
       "      <td>David Attenborough</td>\n",
       "      <td>United States</td>\n",
       "      <td>January 1, 2020</td>\n",
       "      <td>NaN</td>\n",
       "      <td>TV-MA</td>\n",
       "      <td>1 Season</td>\n",
       "      <td>Documentaries</td>\n",
       "      <td>A surly septuagenarian gets another chance at ...</td>\n",
       "    </tr>\n",
       "    <tr>\n",
       "      <td>freq</td>\n",
       "      <td>NaN</td>\n",
       "      <td>4265</td>\n",
       "      <td>3</td>\n",
       "      <td>18</td>\n",
       "      <td>18</td>\n",
       "      <td>2032</td>\n",
       "      <td>122</td>\n",
       "      <td>NaN</td>\n",
       "      <td>2027</td>\n",
       "      <td>1321</td>\n",
       "      <td>299</td>\n",
       "      <td>3</td>\n",
       "    </tr>\n",
       "    <tr>\n",
       "      <td>mean</td>\n",
       "      <td>7.670368e+07</td>\n",
       "      <td>NaN</td>\n",
       "      <td>NaN</td>\n",
       "      <td>NaN</td>\n",
       "      <td>NaN</td>\n",
       "      <td>NaN</td>\n",
       "      <td>NaN</td>\n",
       "      <td>2013.35932</td>\n",
       "      <td>NaN</td>\n",
       "      <td>NaN</td>\n",
       "      <td>NaN</td>\n",
       "      <td>NaN</td>\n",
       "    </tr>\n",
       "    <tr>\n",
       "      <td>std</td>\n",
       "      <td>1.094296e+07</td>\n",
       "      <td>NaN</td>\n",
       "      <td>NaN</td>\n",
       "      <td>NaN</td>\n",
       "      <td>NaN</td>\n",
       "      <td>NaN</td>\n",
       "      <td>NaN</td>\n",
       "      <td>8.81162</td>\n",
       "      <td>NaN</td>\n",
       "      <td>NaN</td>\n",
       "      <td>NaN</td>\n",
       "      <td>NaN</td>\n",
       "    </tr>\n",
       "    <tr>\n",
       "      <td>min</td>\n",
       "      <td>2.477470e+05</td>\n",
       "      <td>NaN</td>\n",
       "      <td>NaN</td>\n",
       "      <td>NaN</td>\n",
       "      <td>NaN</td>\n",
       "      <td>NaN</td>\n",
       "      <td>NaN</td>\n",
       "      <td>1925.00000</td>\n",
       "      <td>NaN</td>\n",
       "      <td>NaN</td>\n",
       "      <td>NaN</td>\n",
       "      <td>NaN</td>\n",
       "    </tr>\n",
       "    <tr>\n",
       "      <td>25%</td>\n",
       "      <td>8.003580e+07</td>\n",
       "      <td>NaN</td>\n",
       "      <td>NaN</td>\n",
       "      <td>NaN</td>\n",
       "      <td>NaN</td>\n",
       "      <td>NaN</td>\n",
       "      <td>NaN</td>\n",
       "      <td>2013.00000</td>\n",
       "      <td>NaN</td>\n",
       "      <td>NaN</td>\n",
       "      <td>NaN</td>\n",
       "      <td>NaN</td>\n",
       "    </tr>\n",
       "    <tr>\n",
       "      <td>50%</td>\n",
       "      <td>8.016337e+07</td>\n",
       "      <td>NaN</td>\n",
       "      <td>NaN</td>\n",
       "      <td>NaN</td>\n",
       "      <td>NaN</td>\n",
       "      <td>NaN</td>\n",
       "      <td>NaN</td>\n",
       "      <td>2016.00000</td>\n",
       "      <td>NaN</td>\n",
       "      <td>NaN</td>\n",
       "      <td>NaN</td>\n",
       "      <td>NaN</td>\n",
       "    </tr>\n",
       "    <tr>\n",
       "      <td>75%</td>\n",
       "      <td>8.024489e+07</td>\n",
       "      <td>NaN</td>\n",
       "      <td>NaN</td>\n",
       "      <td>NaN</td>\n",
       "      <td>NaN</td>\n",
       "      <td>NaN</td>\n",
       "      <td>NaN</td>\n",
       "      <td>2018.00000</td>\n",
       "      <td>NaN</td>\n",
       "      <td>NaN</td>\n",
       "      <td>NaN</td>\n",
       "      <td>NaN</td>\n",
       "    </tr>\n",
       "    <tr>\n",
       "      <td>max</td>\n",
       "      <td>8.123573e+07</td>\n",
       "      <td>NaN</td>\n",
       "      <td>NaN</td>\n",
       "      <td>NaN</td>\n",
       "      <td>NaN</td>\n",
       "      <td>NaN</td>\n",
       "      <td>NaN</td>\n",
       "      <td>2020.00000</td>\n",
       "      <td>NaN</td>\n",
       "      <td>NaN</td>\n",
       "      <td>NaN</td>\n",
       "      <td>NaN</td>\n",
       "    </tr>\n",
       "  </tbody>\n",
       "</table>\n",
       "</div>"
      ],
      "text/plain": [
       "             show_id   type   title                director  \\\n",
       "count   6.234000e+03   6234    6234                    4265   \n",
       "unique           NaN      2    6172                    3301   \n",
       "top              NaN  Movie  Tunnel  Raúl Campos, Jan Suter   \n",
       "freq             NaN   4265       3                      18   \n",
       "mean    7.670368e+07    NaN     NaN                     NaN   \n",
       "std     1.094296e+07    NaN     NaN                     NaN   \n",
       "min     2.477470e+05    NaN     NaN                     NaN   \n",
       "25%     8.003580e+07    NaN     NaN                     NaN   \n",
       "50%     8.016337e+07    NaN     NaN                     NaN   \n",
       "75%     8.024489e+07    NaN     NaN                     NaN   \n",
       "max     8.123573e+07    NaN     NaN                     NaN   \n",
       "\n",
       "                      cast        country       date_added  release_year  \\\n",
       "count                 5664           5758             6223    6234.00000   \n",
       "unique                5469            554             1524           NaN   \n",
       "top     David Attenborough  United States  January 1, 2020           NaN   \n",
       "freq                    18           2032              122           NaN   \n",
       "mean                   NaN            NaN              NaN    2013.35932   \n",
       "std                    NaN            NaN              NaN       8.81162   \n",
       "min                    NaN            NaN              NaN    1925.00000   \n",
       "25%                    NaN            NaN              NaN    2013.00000   \n",
       "50%                    NaN            NaN              NaN    2016.00000   \n",
       "75%                    NaN            NaN              NaN    2018.00000   \n",
       "max                    NaN            NaN              NaN    2020.00000   \n",
       "\n",
       "       rating  duration      listed_in  \\\n",
       "count    6224      6234           6234   \n",
       "unique     14       201            461   \n",
       "top     TV-MA  1 Season  Documentaries   \n",
       "freq     2027      1321            299   \n",
       "mean      NaN       NaN            NaN   \n",
       "std       NaN       NaN            NaN   \n",
       "min       NaN       NaN            NaN   \n",
       "25%       NaN       NaN            NaN   \n",
       "50%       NaN       NaN            NaN   \n",
       "75%       NaN       NaN            NaN   \n",
       "max       NaN       NaN            NaN   \n",
       "\n",
       "                                              description  \n",
       "count                                                6234  \n",
       "unique                                               6226  \n",
       "top     A surly septuagenarian gets another chance at ...  \n",
       "freq                                                    3  \n",
       "mean                                                  NaN  \n",
       "std                                                   NaN  \n",
       "min                                                   NaN  \n",
       "25%                                                   NaN  \n",
       "50%                                                   NaN  \n",
       "75%                                                   NaN  \n",
       "max                                                   NaN  "
      ]
     },
     "execution_count": 7,
     "metadata": {},
     "output_type": "execute_result"
    }
   ],
   "source": [
    "#Een klein overzicht van enkele statistische basisgegevens zoals gemiddelde,\n",
    "#standaard en zo verder.\n",
    "\n",
    "#De parameter \"include='all'\" zorgt ervoor dat alle kolommen van de invoer \n",
    "#worden opgenomen in de uitvoer.\n",
    "content.describe(include='all')"
   ]
  },
  {
   "cell_type": "code",
   "execution_count": 14,
   "metadata": {},
   "outputs": [
    {
     "data": {
      "image/png": "[encoded data removed]",
      "text/plain": [
       "<Figure size 1440x504 with 1 Axes>"
      ]
     },
     "metadata": {
      "needs_background": "light"
     },
     "output_type": "display_data"
    }
   ],
   "source": [
    "#De director en het aantal gemaakte Films\n",
    "TV_Shows = content[content.type == \"Movie\"]\n",
    "bar_data = TV_Shows['director'].value_counts()[0:10]\n",
    "bar_plot = bar_data.plot.bar(figsize=(20, 7), color = [\"#0614e7\",\"#7e06e7\",\n",
    "                                                      \"#e7066a\",\"#de06e7\",\n",
    "                                                      \"#06d0e7\",\"#06e77c\",\n",
    "                                                      \"#06e718\",\"#82e706\",\n",
    "                                                      \"#f7f305\",\"#f79005\"])\n",
    "bar_plot.set_title(\"Aantal films per Director\")\n",
    "bar_plot.set_ylabel(\"Aantal Films\")\n",
    "bar_plot.set_xlabel(\"Director naam\")\n",
    "plt.show()"
   ]
  },
  {
   "cell_type": "code",
   "execution_count": 13,
   "metadata": {},
   "outputs": [
    {
     "data": {
      "image/png": "[encoded data removed]",
      "text/plain": [
       "<Figure size 1440x504 with 1 Axes>"
      ]
     },
     "metadata": {
      "needs_background": "light"
     },
     "output_type": "display_data"
    }
   ],
   "source": [
    "#De director en het aantal gemaakte TV Shows\n",
    "TV_Shows = content[content.type == \"TV Show\"]\n",
    "bar_data = TV_Shows['director'].value_counts()[0:10]\n",
    "bar_plot = bar_data.plot.bar(figsize=(20, 7), color = [\"#0614e7\",\"#7e06e7\",\n",
    "                                                      \"#e7066a\",\"#de06e7\",\n",
    "                                                      \"#06d0e7\",\"#06e77c\",\n",
    "                                                      \"#06e718\",\"#82e706\",\n",
    "                                                      \"#f7f305\",\"#f79005\"])\n",
    "bar_plot.set_title(\"Aantal TV Shows per Director\")\n",
    "bar_plot.set_ylabel(\"Aantal TV Shows\")\n",
    "bar_plot.set_xlabel(\"Director naam\")\n",
    "plt.show()"
   ]
  },
  {
   "cell_type": "code",
   "execution_count": null,
   "metadata": {},
   "outputs": [],
   "source": []
  }
 ],
 "metadata": {
  "kernelspec": {
   "display_name": "Python 3",
   "language": "python",
   "name": "python3"
  },
  "language_info": {
   "codemirror_mode": {
    "name": "ipython",
    "version": 3
   },
   "file_extension": ".py",
   "mimetype": "text/x-python",
   "name": "python",
   "nbconvert_exporter": "python",
   "pygments_lexer": "ipython3",
   "version": "3.7.6"
  }
 },
 "nbformat": 4,
 "nbformat_minor": 4
}
